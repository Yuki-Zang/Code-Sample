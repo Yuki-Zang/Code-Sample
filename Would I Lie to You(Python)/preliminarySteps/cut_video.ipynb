{
 "cells": [
  {
   "cell_type": "markdown",
   "metadata": {},
   "source": [
    "##### `This notebook processes the videos and audios using ffmpeg and moviepy library. The terminal command for video/audio convertion is (e.g.) \"ffmpeg -i something.mp4 something.wav\".`\n",
    "\n",
    "Last updated on August 3rd, 2022"
   ]
  },
  {
   "cell_type": "code",
   "execution_count": 5,
   "metadata": {},
   "outputs": [],
   "source": [
    "from moviepy.video.io.ffmpeg_tools import ffmpeg_extract_subclip\n",
    "import moviepy.editor as mp\n",
    "from pydub import AudioSegment"
   ]
  },
  {
   "cell_type": "code",
   "execution_count": 6,
   "metadata": {},
   "outputs": [],
   "source": [
    "def extract_a_segment_of_audio(audioName, startTime, endTime):\n",
    "    '''\n",
    "    parameter:\n",
    "    audioName: str. the name/path of the audio to be cut\n",
    "    startTime: float. start time in second\n",
    "    endTime: float. end time in second\n",
    "\n",
    "    reads in the audio file and exports save the cut file under the name of \"audioName_cut.wav\"\n",
    "    NOTE: both the input and output files are in the same path\n",
    "    '''\n",
    "    \n",
    "    try:\n",
    "        newAudio = AudioSegment.from_wav(audioName)\n",
    "    except:\n",
    "        print(\"file '{%s}' does not exist\" %audioName)\n",
    "        exit()\n",
    "    try:\n",
    "        newAudio = newAudio[startTime*1000:endTime*1000]\n",
    "    except:\n",
    "        print(\"time segment out of range\")\n",
    "        exit()\n",
    "\n",
    "    #Exports to a wav file in the current path.\n",
    "    newAudio.export(audioName[:-4]+'_cut.wav', format=\"wav\")\n"
   ]
  },
  {
   "cell_type": "code",
   "execution_count": 7,
   "metadata": {},
   "outputs": [],
   "source": [
    "extract_a_segment_of_audio(\"s14e03.wav\",104,109.3)"
   ]
  },
  {
   "cell_type": "markdown",
   "metadata": {},
   "source": [
    "`Make sure to rename the target video name into \"clip.mp4\" or change the input video name below.`"
   ]
  },
  {
   "cell_type": "code",
   "execution_count": 11,
   "metadata": {},
   "outputs": [
    {
     "name": "stdout",
     "output_type": "stream",
     "text": [
      "Moviepy - Running:\n",
      ">>> \"+ \" \".join(cmd)\n",
      "Moviepy - Command successful\n",
      "MoviePy - Writing audio in sound5.wav\n"
     ]
    },
    {
     "name": "stderr",
     "output_type": "stream",
     "text": [
      "                                                       "
     ]
    },
    {
     "name": "stdout",
     "output_type": "stream",
     "text": [
      "MoviePy - Done.\n"
     ]
    },
    {
     "name": "stderr",
     "output_type": "stream",
     "text": [
      "\r"
     ]
    }
   ],
   "source": [
    "#format = ffmpeg_extract_subclip(\"full.mp4\", start_seconds, end_seconds, targetname=\"cut.mp4\")\n",
    "ffmpeg_extract_subclip(\"clip.mp4\", 1410, 1420, targetname=\"cut.mp4\")\n",
    "clip = mp.VideoFileClip(\"cut.mp4\")\n",
    "sub_clip=clip.subclip(4.2,5)\n",
    "sub_clip.audio.write_audiofile(\"sound5.wav\")"
   ]
  }
 ],
 "metadata": {
  "interpreter": {
   "hash": "6e4e1b29a8f3351e0554dd3a0af00c8fcb68193190a462336a502cdea2c36c18"
  },
  "kernelspec": {
   "display_name": "newve",
   "language": "python",
   "name": "newve"
  },
  "language_info": {
   "codemirror_mode": {
    "name": "ipython",
    "version": 3
   },
   "file_extension": ".py",
   "mimetype": "text/x-python",
   "name": "python",
   "nbconvert_exporter": "python",
   "pygments_lexer": "ipython3",
   "version": "3.9.7"
  },
  "orig_nbformat": 4
 },
 "nbformat": 4,
 "nbformat_minor": 2
}
