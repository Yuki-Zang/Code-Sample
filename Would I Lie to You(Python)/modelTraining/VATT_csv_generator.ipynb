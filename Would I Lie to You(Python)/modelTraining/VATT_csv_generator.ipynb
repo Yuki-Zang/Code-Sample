{
 "cells": [
  {
   "cell_type": "code",
   "execution_count": 8,
   "metadata": {},
   "outputs": [],
   "source": [
    "from unittest import skip\n",
    "import pandas as pd\n",
    "\n",
    "df = pd.DataFrame(columns=[\"video_path\", \"start\", \"end\", \"label\"])\n",
    "row = 0\n",
    "for i in range(1,9):\n",
    "    data = pd.read_csv(f\"../../vectorGenerator/vector_info_csv/s04e0{i}.csv\")\n",
    "    for j in data.index:\n",
    "        df.loc[row]=[f\"vatt/data/datasets/s04e0{i}.mp4\",data.loc[j][\"startTime\"],data.loc[j][\"endTime\"],\\\n",
    "            \"LIE\" if data.loc[j][\"label\"]==0 else \"TRUTH\"]\n",
    "        row+=1\n",
    "df.to_csv(\"input.csv\", index=False)"
   ]
  },
  {
   "cell_type": "code",
   "execution_count": null,
   "metadata": {},
   "outputs": [],
   "source": []
  }
 ],
 "metadata": {
  "kernelspec": {
   "display_name": "Python 3.9.7 64-bit ('anaconda3')",
   "language": "python",
   "name": "python3"
  },
  "language_info": {
   "codemirror_mode": {
    "name": "ipython",
    "version": 3
   },
   "file_extension": ".py",
   "mimetype": "text/x-python",
   "name": "python",
   "nbconvert_exporter": "python",
   "pygments_lexer": "ipython3",
   "version": "3.9.7"
  },
  "orig_nbformat": 4,
  "vscode": {
   "interpreter": {
    "hash": "ccc7cae5cfb96b709b6e20795c35d6ed525a7bf528d24a73a8fe31e90ef10ad6"
   }
  }
 },
 "nbformat": 4,
 "nbformat_minor": 2
}
